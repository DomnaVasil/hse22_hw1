{
  "nbformat": 4,
  "nbformat_minor": 0,
  "metadata": {
    "colab": {
      "provenance": []
    },
    "kernelspec": {
      "name": "python3",
      "display_name": "Python 3"
    },
    "language_info": {
      "name": "python"
    }
  },
  "cells": [
    {
      "cell_type": "code",
      "execution_count": null,
      "metadata": {
        "id": "-WOpUomkpIss"
      },
      "outputs": [],
      "source": [
        "import re\n",
        "def research(f, text, output = True):\n",
        "    seq_length = []\n",
        "    common_length = 0\n",
        "    amount = 0\n",
        "    longest_length = 0\n",
        "    length = 0\n",
        "    score = 0\n",
        "    max_sequence = ''\n",
        "    curr_sequence = ''\n",
        "    for line in f:\n",
        "        if (line[0] == '>'):\n",
        "            if amount != 0:\n",
        "                seq_length.append(length)\n",
        "            amount += 1\n",
        "            if length >= longest_length:\n",
        "                longest_length = length\n",
        "                max_sequence = curr_sequence\n",
        "            curr_sequence = ''\n",
        "            length = 0\n",
        "        else:\n",
        "            curr_sequence += line.strip()\n",
        "            length += len(line.strip())\n",
        "            common_length += len(line.strip())\n",
        "     \n",
        "    seq_length.sort(reverse = True) \n",
        "    for i in seq_length:\n",
        "        score += i\n",
        "        if score >= common_length / 2:\n",
        "            if output == True:\n",
        "                print(f'Анализ {text}\\n\\\n",
        "Общее количество {text}: {amount}\\n\\\n",
        "Общая длина {text}: {common_length}\\n\\\n",
        "Длина самого длинного из {text}: {longest_length}\\n\\\n",
        "N50: {i}\\n')\n",
        "            break\n",
        "    return max_sequence"
      ]
    },
    {
      "cell_type": "code",
      "source": [
        "cont_analysis = research(open('Poil_contig.fa', 'r'), 'контигов')"
      ],
      "metadata": {
        "colab": {
          "base_uri": "https://localhost:8080/"
        },
        "id": "Nk_2cTv1ruMR",
        "outputId": "c83cea66-47c3-4d47-ce54-eddf60042317"
      },
      "execution_count": null,
      "outputs": [
        {
          "output_type": "stream",
          "name": "stdout",
          "text": [
            "Анализ контигов\n",
            "Общее количество контигов: 603\n",
            "Общая длина контигов: 3924391\n",
            "Длина самого длинного из контигов: 179307\n",
            "N50: 55038\n",
            "\n"
          ]
        }
      ]
    },
    {
      "cell_type": "code",
      "source": [
        "scaf_analysis = research(open('Poil_scaffold.fa', 'r'), 'скаффолдов')"
      ],
      "metadata": {
        "colab": {
          "base_uri": "https://localhost:8080/"
        },
        "id": "94sU70z7ruzt",
        "outputId": "ba824465-d92a-43c5-bd32-560451831b1c"
      },
      "execution_count": null,
      "outputs": [
        {
          "output_type": "stream",
          "name": "stdout",
          "text": [
            "Анализ скаффолдов\n",
            "Общее количество скаффолдов: 71\n",
            "Общая длина скаффолдов: 3875863\n",
            "Длина самого длинного из скаффолдов: 3833957\n",
            "N50: 3833957\n",
            "\n"
          ]
        }
      ]
    },
    {
      "cell_type": "code",
      "source": [
        "print(f'Общая длина гэпов: {scaf_analysis.count(\"N\")}')\n",
        "scaf_analysis = re.sub(r'N{2,}', 'N', max_scaf)\n",
        "print(f'Число гэпов: {scaf_analysis.count(\"N\")}')"
      ],
      "metadata": {
        "colab": {
          "base_uri": "https://localhost:8080/"
        },
        "id": "DRr5fWFYryZ_",
        "outputId": "ecd6f1a9-950c-4727-e89d-39cfe1ca5dd6"
      },
      "execution_count": null,
      "outputs": [
        {
          "output_type": "stream",
          "name": "stdout",
          "text": [
            "Общая длина гэпов: 5670\n",
            "Число гэпов: 10\n"
          ]
        }
      ]
    },
    {
      "cell_type": "code",
      "source": [
        "scaf_analysis = research(open('Poil_gapClosed.fa', 'r'), 'скаффолдов', False)"
      ],
      "metadata": {
        "id": "qAmEsmVaryiM"
      },
      "execution_count": null,
      "outputs": []
    },
    {
      "cell_type": "code",
      "source": [
        "print(f'Общая длина гэпов для обрезанных чтений: {scaf_analysis.count(\"N\")}')\n",
        "scaf_analysis = re.sub(r'N{2,}', 'N', scaf_analysis)\n",
        "print(f'Число гэпов для обрезанных чтений: {scaf_analysis.count(\"N\")}')"
      ],
      "metadata": {
        "colab": {
          "base_uri": "https://localhost:8080/"
        },
        "id": "ZW_syeyFr1mC",
        "outputId": "3b6622b4-6201-45c8-ac5f-49e5a74c42e1"
      },
      "execution_count": null,
      "outputs": [
        {
          "output_type": "stream",
          "name": "stdout",
          "text": [
            "Общая длина гэпов для обрезанных чтений: 1749\n",
            "Число гэпов для обрезанных чтений: 10\n"
          ]
        }
      ]
    }
  ]
}